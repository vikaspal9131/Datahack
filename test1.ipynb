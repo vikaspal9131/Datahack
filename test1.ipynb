{
 "cells": [
  {
   "cell_type": "code",
   "execution_count": 1,
   "metadata": {},
   "outputs": [],
   "source": [
    "import os"
   ]
  },
  {
   "cell_type": "code",
   "execution_count": 4,
   "metadata": {},
   "outputs": [
    {
     "name": "stdout",
     "output_type": "stream",
     "text": [
      "/\n",
      "    .gitignore\n",
      "    01_FileOrganization.py\n",
      "    02_preprocess.py\n",
      "    dashboard.py\n",
      "    preprocessed_sales_data.csv\n",
      "    readme.md\n",
      "    test1.ipynb\n",
      ".git/\n",
      "    .MERGE_MSG.swp\n",
      "    COMMIT_EDITMSG\n",
      "    config\n",
      "    description\n",
      "    FETCH_HEAD\n",
      "    HEAD\n",
      "    index\n",
      "    ORIG_HEAD\n",
      "    packed-refs\n",
      "    hooks/\n",
      "        applypatch-msg.sample\n",
      "        commit-msg.sample\n",
      "        fsmonitor-watchman.sample\n",
      "        post-update.sample\n",
      "        pre-applypatch.sample\n",
      "        pre-commit.sample\n",
      "        pre-merge-commit.sample\n",
      "        pre-push.sample\n",
      "        pre-rebase.sample\n",
      "        pre-receive.sample\n",
      "        prepare-commit-msg.sample\n",
      "        push-to-checkout.sample\n",
      "        sendemail-validate.sample\n",
      "        update.sample\n",
      "    info/\n",
      "        exclude\n",
      "    logs/\n",
      "        HEAD\n",
      "        refs/\n",
      "            heads/\n",
      "                main\n",
      "            remotes/\n",
      "                origin/\n",
      "                    HEAD\n",
      "                    main\n",
      "    objects/\n",
      "        00/\n",
      "            961520f4bdcd22a49dda03f10b7e3d16a33320\n",
      "        08/\n",
      "            60cb6391d6610e74ddae48606ca6152bb44f0a\n",
      "        0a/\n",
      "            a963f9d15a2507d4f79f1a828408523458efb5\n",
      "        0b/\n",
      "            7c3bc8720a15ef83cb246d70895a31f7b72e79\n",
      "        0d/\n",
      "            2a88a1006b5d715f9967433f98d1504d2332e5\n",
      "            7aa9b2441c40b925cac5befe726c07d8819adb\n",
      "        0e/\n",
      "            e8499f05db283541e932c73a6eac2c08420665\n",
      "        0f/\n",
      "            b73984c9813c08d44d4fc628328ae757b06aa2\n",
      "        10/\n",
      "            2e9199cc49285f192968fff8d8adb2dd2c323b\n",
      "        24/\n",
      "            05de5afe6393572beeb7aebc6f37a648760819\n",
      "        25/\n",
      "            6848eb1060955d716f67bdafd6aa66bf9dde27\n",
      "        2a/\n",
      "            24bfc9b9fe44ae15f60dc2f99bcd704c251755\n",
      "        31/\n",
      "            948192d58868582f2b417c3b52d93bfbc7e072\n",
      "        39/\n",
      "            20db5878b64c3a1cccfdb77670ef59e9eef195\n",
      "        3c/\n",
      "            2aa229730729a5e280a2e618242a7e91363d87\n",
      "        41/\n",
      "            a3607472cdda47b1780a388a54fe13fa8df26f\n",
      "        42/\n",
      "            99f4539ab12164406730f4672ec92483f4f9c4\n",
      "        4f/\n",
      "            a3550993fabb9373ef2a273d91d7ae16f66d18\n",
      "        50/\n",
      "            a02a753fabfbd8665edc5c2b8aeef4ae6ddbf2\n",
      "        51/\n",
      "            70d7cfbf8df70960b5d66e0adaf1668349b787\n",
      "            78a9f3d82ac784222c55bcc004f2bbce8891ca\n",
      "        52/\n",
      "            2515bf679422cf65be34e75a4a1faf44ceea84\n",
      "        53/\n",
      "            3ff6f1c558e920c37487f45377eb466e394858\n",
      "        55/\n",
      "            0427694abc2b745e94d33ef2a9070bbc1f31ec\n",
      "        56/\n",
      "            97ef87e8274e24debfb14e4146aebf618ff61a\n",
      "        77/\n",
      "            4a5b1201e05c9372b36b57dbd790d763687a9c\n",
      "            ce13311a724a557ee340112d1b94433bb03c59\n",
      "        7d/\n",
      "            6ac1fc87a082f1e645d1d743425cc29afcaa50\n",
      "        7f/\n",
      "            6a769ed86b78eb364072b29615f8392be177f7\n",
      "        83/\n",
      "            7c044a4179092a49c7944ba6590bf987625591\n",
      "        8d/\n",
      "            bb59d5a258c304b4dc460b7210220267990ae9\n",
      "        8e/\n",
      "            1666a96c0e7432dcf6d1b2d34050bbe4bf3823\n",
      "        92/\n",
      "            c920911e31ba280c88f36371e5105f13d576b2\n",
      "        93/\n",
      "            09011bd43b968cbad5953883d18335d67b9fc5\n",
      "        a8/\n",
      "            1d175bdf2b36017fe6b7fa5cdc802ed6568616\n",
      "        b5/\n",
      "            67b93220c4be02f88608b80ebe96e1d6823285\n",
      "        bc/\n",
      "            09b73a427d658b88fc7827d6f21fdef3e9330a\n",
      "        c1/\n",
      "            493bf9599147237901d0e2550d0b2661c80e1e\n",
      "        c2/\n",
      "            14cd64f207958d2730c0852c2312b3a60d9db4\n",
      "            9eeb29169851d316064b44a4549a8dde424c88\n",
      "        c7/\n",
      "            2dc94fa99e4b0c8f3999689e280c7fffd5ca73\n",
      "        d3/\n",
      "            450ea21e2e4ee31424cd92521ce3fcaa25b681\n",
      "        db/\n",
      "            01270b9aeea3d10c849374531c7ed589eb9fc9\n",
      "        f3/\n",
      "            ebadcc05233cd20cd3dc6479b6f37e3e538569\n",
      "        info/\n",
      "        pack/\n",
      "            pack-2450ffd6e4080d98966260ce2ca36ab28aae8ac2.idx\n",
      "            pack-2450ffd6e4080d98966260ce2ca36ab28aae8ac2.pack\n",
      "            pack-2450ffd6e4080d98966260ce2ca36ab28aae8ac2.rev\n",
      "    refs/\n",
      "        heads/\n",
      "            main\n",
      "        remotes/\n",
      "            origin/\n",
      "                HEAD\n",
      "                main\n",
      "        tags/\n",
      "CustomerFeedback/\n",
      "    ActionableInsights.py\n",
      "    dataPreparation.py\n",
      "    EDA.py\n",
      "    PerformanceMetric.py\n",
      "    SentimentalAnalysis.py\n",
      "logs/\n",
      "    langflow.log\n",
      "SalesAnalysis/\n",
      "    basicTraining.py\n",
      "    dataPreparation.py\n",
      "    EDA.py\n",
      "    multipleModelTraining.py\n"
     ]
    }
   ],
   "source": [
    "import os\n",
    "\n",
    "def list_files(startpath):\n",
    "    for root, dirs, files in os.walk(startpath):\n",
    "        level = root.replace(startpath, '').count(os.sep)\n",
    "        indent = ' ' * 4 * (level)\n",
    "        print(f\"{indent}{os.path.basename(root)}/\")\n",
    "        subindent = ' ' * 4 * (level + 1)\n",
    "        for f in files:\n",
    "            print(f\"{subindent}{f}\")\n",
    "\n",
    "# Specify the path to the directory you want to list\n",
    "directory_path = './'  # Replace with your directory path\n",
    "list_files(directory_path)\n"
   ]
  },
  {
   "cell_type": "code",
   "execution_count": 7,
   "metadata": {},
   "outputs": [
    {
     "name": "stdout",
     "output_type": "stream",
     "text": [
      "\u001b[33mThe \u001b[0m\u001b[1;36m@step\u001b[33m decorator that you used to define your load_data step is deprecated. Check out the 0.40.0 migration guide for more information on how to migrate your steps to the new syntax: \u001b[0m\u001b[34mhttps://docs.zenml.io/reference/migration-guide/migration-zero-forty\u001b[33m\u001b[0m\n",
      "\u001b[33mThe \u001b[0m\u001b[1;36m@step\u001b[33m decorator that you used to define your train_model step is deprecated. Check out the 0.40.0 migration guide for more information on how to migrate your steps to the new syntax: \u001b[0m\u001b[34mhttps://docs.zenml.io/reference/migration-guide/migration-zero-forty\u001b[33m\u001b[0m\n",
      "\u001b[33mThe \u001b[0m\u001b[1;36m@pipeline\u001b[33m decorator that you used to define your simple_ml_pipeline pipeline is deprecated. Check out the 0.40.0 migration guide for more information on how to migrate your pipelines to the new syntax: \u001b[0m\u001b[34mhttps://docs.zenml.io/reference/migration-guide/migration-zero-forty.html\u001b[33m\u001b[0m\n"
     ]
    },
    {
     "data": {
      "text/plain": [
       "<__main__.simple_ml_pipeline at 0x207a1dd0fa0>"
      ]
     },
     "execution_count": 7,
     "metadata": {},
     "output_type": "execute_result"
    }
   ],
   "source": [
    "from zenml.pipelines import pipeline\n",
    "from zenml.steps import step, Output\n",
    "\n",
    "@step  # Just add this decorator\n",
    "def load_data() -> dict:\n",
    "    training_data = [[1, 2], [3, 4], [5, 6]]\n",
    "    labels = [0, 1, 0]\n",
    "    return {'features': training_data, 'labels': labels}\n",
    "\n",
    "\n",
    "@step\n",
    "def train_model(data: dict) -> None:\n",
    "    total_features = sum(map(sum, data['features']))\n",
    "    total_labels = sum(data['labels'])\n",
    "\n",
    "    # Train some model here\n",
    "\n",
    "    print(f\"Trained model using {len(data['features'])} data points. \"\n",
    "          f\"Feature sum is {total_features}, label sum is {total_labels}\")\n",
    "\n",
    "\n",
    "@pipeline  # This function combines steps together \n",
    "def simple_ml_pipeline():\n",
    "    dataset = load_data()\n",
    "    train_model(dataset)\n",
    "\n",
    "simple_ml_pipeline()"
   ]
  },
  {
   "cell_type": "code",
   "execution_count": 9,
   "metadata": {},
   "outputs": [
    {
     "name": "stdout",
     "output_type": "stream",
     "text": [
      "\u001b[33mThe \u001b[0m\u001b[1;36m@step\u001b[33m decorator that you used to define your load_data step is deprecated. Check out the 0.40.0 migration guide for more information on how to migrate your steps to the new syntax: \u001b[0m\u001b[34mhttps://docs.zenml.io/reference/migration-guide/migration-zero-forty\u001b[33m\u001b[0m\n",
      "\u001b[33mThe \u001b[0m\u001b[1;36m@step\u001b[33m decorator that you used to define your process_data step is deprecated. Check out the 0.40.0 migration guide for more information on how to migrate your steps to the new syntax: \u001b[0m\u001b[34mhttps://docs.zenml.io/reference/migration-guide/migration-zero-forty\u001b[33m\u001b[0m\n"
     ]
    }
   ],
   "source": [
    "from zenml.steps import step\n",
    "import pandas as pd\n",
    "\n",
    "@step\n",
    "def load_data() -> pd.DataFrame:\n",
    "    # Load your data\n",
    "    return data\n",
    "\n",
    "@step\n",
    "def process_data(data: pd.DataFrame) -> pd.DataFrame:\n",
    "    # Process your data\n",
    "    return processed_data\n"
   ]
  },
  {
   "cell_type": "code",
   "execution_count": 10,
   "metadata": {},
   "outputs": [
    {
     "data": {
      "text/html": [
       "<pre style=\"white-space:pre;overflow-x:auto;line-height:normal;font-family:Menlo,'DejaVu Sans Mono',consolas,'Courier New',monospace\"><span style=\"color: #800000; text-decoration-color: #800000\">╭─────────────────────────────── </span><span style=\"color: #800000; text-decoration-color: #800000; font-weight: bold\">Traceback </span><span style=\"color: #bf7f7f; text-decoration-color: #bf7f7f; font-weight: bold\">(most recent call last)</span><span style=\"color: #800000; text-decoration-color: #800000\"> ────────────────────────────────╮</span>\n",
       "<span style=\"color: #800000; text-decoration-color: #800000\">│</span> in <span style=\"color: #00ff00; text-decoration-color: #00ff00\">&lt;module&gt;</span>:<span style=\"color: #0000ff; text-decoration-color: #0000ff\">1</span>                                                                                    <span style=\"color: #800000; text-decoration-color: #800000\">│</span>\n",
       "<span style=\"color: #800000; text-decoration-color: #800000\">│</span>                                                                                                  <span style=\"color: #800000; text-decoration-color: #800000\">│</span>\n",
       "<span style=\"color: #800000; text-decoration-color: #800000\">│</span> <span style=\"color: #800000; text-decoration-color: #800000\">❱ </span>1 <span style=\"color: #0000ff; text-decoration-color: #0000ff\">from</span> <span style=\"color: #00ffff; text-decoration-color: #00ffff; text-decoration: underline\">zenml.pipelines</span> <span style=\"color: #0000ff; text-decoration-color: #0000ff\">import</span> create_pipeline                                                  <span style=\"color: #800000; text-decoration-color: #800000\">│</span>\n",
       "<span style=\"color: #800000; text-decoration-color: #800000\">│</span>   <span style=\"color: #7f7f7f; text-decoration-color: #7f7f7f\">2 </span>                                                                                             <span style=\"color: #800000; text-decoration-color: #800000\">│</span>\n",
       "<span style=\"color: #800000; text-decoration-color: #800000\">│</span>   <span style=\"color: #7f7f7f; text-decoration-color: #7f7f7f\">3 # Assuming you have defined a pipeline</span>                                                       <span style=\"color: #800000; text-decoration-color: #800000\">│</span>\n",
       "<span style=\"color: #800000; text-decoration-color: #800000\">│</span>   <span style=\"color: #7f7f7f; text-decoration-color: #7f7f7f\">4 </span>pipeline = create_pipeline(steps=[load_data, process_data])                                  <span style=\"color: #800000; text-decoration-color: #800000\">│</span>\n",
       "<span style=\"color: #800000; text-decoration-color: #800000\">╰──────────────────────────────────────────────────────────────────────────────────────────────────╯</span>\n",
       "<span style=\"color: #ff0000; text-decoration-color: #ff0000; font-weight: bold\">ImportError: </span>cannot import name <span style=\"color: #008000; text-decoration-color: #008000\">'create_pipeline'</span> from <span style=\"color: #008000; text-decoration-color: #008000\">'zenml.pipelines'</span> \n",
       "<span style=\"font-weight: bold\">(</span>C:\\Users\\ASUS\\AppData\\Local\\Packages\\PythonSoftwareFoundation.Python.<span style=\"color: #008080; text-decoration-color: #008080; font-weight: bold\">3.</span>8_qbz5n2kfra8p0\\LocalCache\\local-packages\\P\n",
       "ython38\\site-packages\\zenml\\pipelines\\__init__.py<span style=\"font-weight: bold\">)</span>\n",
       "</pre>\n"
      ],
      "text/plain": [
       "\u001b[31m╭─\u001b[0m\u001b[31m──────────────────────────────\u001b[0m\u001b[31m \u001b[0m\u001b[1;31mTraceback \u001b[0m\u001b[1;2;31m(most recent call last)\u001b[0m\u001b[31m \u001b[0m\u001b[31m───────────────────────────────\u001b[0m\u001b[31m─╮\u001b[0m\n",
       "\u001b[31m│\u001b[0m in \u001b[92m<module>\u001b[0m:\u001b[94m1\u001b[0m                                                                                    \u001b[31m│\u001b[0m\n",
       "\u001b[31m│\u001b[0m                                                                                                  \u001b[31m│\u001b[0m\n",
       "\u001b[31m│\u001b[0m \u001b[31m❱ \u001b[0m1 \u001b[94mfrom\u001b[0m \u001b[4;96mzenml\u001b[0m\u001b[4;96m.\u001b[0m\u001b[4;96mpipelines\u001b[0m \u001b[94mimport\u001b[0m create_pipeline                                                  \u001b[31m│\u001b[0m\n",
       "\u001b[31m│\u001b[0m   \u001b[2m2 \u001b[0m                                                                                             \u001b[31m│\u001b[0m\n",
       "\u001b[31m│\u001b[0m   \u001b[2m3 \u001b[0m\u001b[2m# Assuming you have defined a pipeline\u001b[0m                                                       \u001b[31m│\u001b[0m\n",
       "\u001b[31m│\u001b[0m   \u001b[2m4 \u001b[0mpipeline = create_pipeline(steps=[load_data, process_data])                                  \u001b[31m│\u001b[0m\n",
       "\u001b[31m╰──────────────────────────────────────────────────────────────────────────────────────────────────╯\u001b[0m\n",
       "\u001b[1;91mImportError: \u001b[0mcannot import name \u001b[32m'create_pipeline'\u001b[0m from \u001b[32m'zenml.pipelines'\u001b[0m \n",
       "\u001b[1m(\u001b[0mC:\\Users\\ASUS\\AppData\\Local\\Packages\\PythonSoftwareFoundation.Python.\u001b[1;36m3.\u001b[0m8_qbz5n2kfra8p0\\LocalCache\\local-packages\\P\n",
       "ython38\\site-packages\\zenml\\pipelines\\__init__.py\u001b[1m)\u001b[0m\n"
      ]
     },
     "metadata": {},
     "output_type": "display_data"
    }
   ],
   "source": [
    "from zenml.pipelines import create_pipeline\n",
    "\n",
    "# Assuming you have defined a pipeline\n",
    "pipeline = create_pipeline(steps=[load_data, process_data])\n",
    "\n",
    "if __name__ == \"__main__\":\n",
    "    pipeline()\n"
   ]
  },
  {
   "cell_type": "code",
   "execution_count": 12,
   "metadata": {},
   "outputs": [
    {
     "name": "stdout",
     "output_type": "stream",
     "text": [
      "\u001b[33mThe \u001b[0m\u001b[1;36m@step\u001b[33m decorator that you used to define your load_data step is deprecated. Check out the 0.40.0 migration guide for more information on how to migrate your steps to the new syntax: \u001b[0m\u001b[34mhttps://docs.zenml.io/reference/migration-guide/migration-zero-forty\u001b[33m\u001b[0m\n",
      "\u001b[33mThe \u001b[0m\u001b[1;36m@step\u001b[33m decorator that you used to define your process_data step is deprecated. Check out the 0.40.0 migration guide for more information on how to migrate your steps to the new syntax: \u001b[0m\u001b[34mhttps://docs.zenml.io/reference/migration-guide/migration-zero-forty\u001b[33m\u001b[0m\n",
      "\u001b[33mThe \u001b[0m\u001b[1;36m@pipeline\u001b[33m decorator that you used to define your my_pipeline pipeline is deprecated. Check out the 0.40.0 migration guide for more information on how to migrate your pipelines to the new syntax: \u001b[0m\u001b[34mhttps://docs.zenml.io/reference/migration-guide/migration-zero-forty.html\u001b[33m\u001b[0m\n"
     ]
    }
   ],
   "source": [
    "import pandas as pd\n",
    "from zenml.pipelines import pipeline\n",
    "from zenml.steps import step\n",
    "\n",
    "@step\n",
    "def load_data() -> pd.DataFrame:\n",
    "    # Load your data (replace with actual loading logic)\n",
    "    return pd.DataFrame({\"sample\": [1, 2, 3]})\n",
    "\n",
    "@step\n",
    "def process_data(data: pd.DataFrame) -> pd.DataFrame:\n",
    "    # Process your data (replace with actual processing logic)\n",
    "    data['processed'] = data['sample'] * 2\n",
    "    return data\n",
    "\n",
    "@pipeline\n",
    "def my_pipeline(load_data, process_data):\n",
    "    data = load_data()\n",
    "    processed_data = process_data(data)\n",
    "\n",
    "# Entry point\n",
    "if __name__ == \"__main__\":\n",
    "    my_pipeline(load_data=load_data(), process_data=process_data())\n"
   ]
  },
  {
   "cell_type": "code",
   "execution_count": null,
   "metadata": {},
   "outputs": [],
   "source": []
  }
 ],
 "metadata": {
  "kernelspec": {
   "display_name": "Python 3",
   "language": "python",
   "name": "python3"
  },
  "language_info": {
   "codemirror_mode": {
    "name": "ipython",
    "version": 3
   },
   "file_extension": ".py",
   "mimetype": "text/x-python",
   "name": "python",
   "nbconvert_exporter": "python",
   "pygments_lexer": "ipython3",
   "version": "3.8.10"
  }
 },
 "nbformat": 4,
 "nbformat_minor": 2
}
